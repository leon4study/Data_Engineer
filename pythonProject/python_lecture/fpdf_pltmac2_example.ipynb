{
 "cells": [
  {
   "cell_type": "code",
   "execution_count": 2,
   "id": "08a81fd4",
   "metadata": {},
   "outputs": [],
   "source": [
    "import os\n",
    "path = '/Users/jun/GitStudy/Data_Engineer/pythonProject/python_lecture'\n",
    "os.chdir(path)"
   ]
  },
  {
   "cell_type": "code",
   "execution_count": 2,
   "id": "bc20f3c3",
   "metadata": {},
   "outputs": [
    {
     "data": {
      "text/plain": [
       "['/Users/jun/GitStudy/Data_4/src/util',\n",
       " '/Users/jun/GitStudy/Data_Engineer/pythonProject/python_lecture',\n",
       " '/opt/homebrew/Caskroom/miniconda/base/envs/leo4study/lib/python311.zip',\n",
       " '/opt/homebrew/Caskroom/miniconda/base/envs/leo4study/lib/python3.11',\n",
       " '/opt/homebrew/Caskroom/miniconda/base/envs/leo4study/lib/python3.11/lib-dynload',\n",
       " '',\n",
       " '/opt/homebrew/Caskroom/miniconda/base/envs/leo4study/lib/python3.11/site-packages']"
      ]
     },
     "execution_count": 2,
     "metadata": {},
     "output_type": "execute_result"
    }
   ],
   "source": [
    "import sys\n",
    "path = sys.path\n",
    "path"
   ]
  },
  {
   "cell_type": "code",
   "execution_count": 3,
   "id": "1b938280",
   "metadata": {},
   "outputs": [
    {
     "name": "stdout",
     "output_type": "stream",
     "text": [
      "/Users/jun/GitStudy/Data_4/src/util\n"
     ]
    }
   ],
   "source": [
    "for i in path:\n",
    "    if \"util\" in i:\n",
    "        print(i)"
   ]
  },
  {
   "cell_type": "code",
   "execution_count": 4,
   "id": "c5590b17",
   "metadata": {},
   "outputs": [
    {
     "name": "stdout",
     "output_type": "stream",
     "text": [
      "Using font : {self.ttf_path}\n",
      "Set font to: Arial Unicode MS\n"
     ]
    }
   ],
   "source": [
    "from pltKorean_mac2 import Fontmanager\n",
    "\n",
    "mananger = Fontmanager()\n",
    "mananger.set_font()"
   ]
  },
  {
   "cell_type": "code",
   "execution_count": 7,
   "id": "4aebdc09",
   "metadata": {},
   "outputs": [
    {
     "name": "stdout",
     "output_type": "stream",
     "text": [
      "Set font to: Arial Unicode MS\n",
      "Font 1/1: /Library/Fonts/Arial Unicode.ttf\n"
     ]
    }
   ],
   "source": [
    "mananger.next_font()"
   ]
  },
  {
   "cell_type": "code",
   "execution_count": 5,
   "id": "bf5d179e",
   "metadata": {},
   "outputs": [],
   "source": [
    "from fpdf import FPDF, XPos, YPos\n",
    "\n",
    "FONT_PATH = \"/Library/Fonts/Arial Unicode.ttf\"\n",
    "\n",
    "# 한글 폰트 설정을 지원하는 FPDF2\n",
    "class PDF_KO(FPDF):\n",
    "    def header(self):\n",
    "        self.set_font('Arial Unicode', 'B', 16)\n",
    "        self.cell(0, 10, '어깨 재활 프로그램 (8주)', new_x=XPos.LMARGIN, new_y=YPos.NEXT, align='C')\n",
    "        self.ln(5)\n",
    "\n",
    "    def chapter_title(self, title):\n",
    "        self.set_font('Arial Unicode', 'B', 14)\n",
    "        self.cell(0, 10, title, new_x=XPos.LMARGIN, new_y=YPos.NEXT, align='L')\n",
    "        self.ln(2)\n",
    "\n",
    "    def chapter_body(self, body):\n",
    "        self.set_font('Arial Unicode', '', 12)\n",
    "        self.multi_cell(0, 10, body)\n",
    "        self.ln(5)\n",
    "\n",
    "# 영문 기반으로 다시 프로그램 텍스트 수정\n",
    "program = [\n",
    "    (\"1-2주차 (초기 안정화)\", \n",
    "     \"- Isometric External Rotation: 팔꿈치 90도, 외회전 힘주기 (10초 유지 × 10회)\\n\"\n",
    "     \"- Isometric Internal Rotation: 팔꿈치 90도, 내회전 힘주기 (10초 유지 × 10회)\\n\"\n",
    "     \"- Scapular Setting: 어깨 내리고 견갑골 모으기 (15초 유지 × 10회)\\n\"\n",
    "     \"- Serratus Punch: 누운 자세, 팔을 천장 방향으로 펀치 (15회)\"),\n",
    "    \n",
    "    (\"3-4주차 (가벼운 근육 활성화)\", \n",
    "     \"- Theraband External Rotation: 밴드 사용 외회전 (15회 × 3세트)\\n\"\n",
    "     \"- Theraband Internal Rotation: 밴드 사용 내회전 (15회 × 3세트)\\n\"\n",
    "     \"- Low Row: 견갑골 조이기 (12회 × 3세트)\\n\"\n",
    "     \"- Wall Slide: 벽에 손을 대고 천천히 올리기 (15회)\"),\n",
    "    \n",
    "    (\"5-6주차 (동적 안정성 강화)\", \n",
    "     \"- Kettlebell Carry: 2~4kg 들고 안정 유지하며 걷기 (30초 × 5회)\\n\"\n",
    "     \"- Y-T-W 운동: 팔로 Y, T, W 모양 만들기 (12회)\\n\"\n",
    "     \"- Quick Scapular Retraction: 빠르게 견갑골 모으기 (15회)\"),\n",
    "    \n",
    "    (\"7-8주차 (운동복귀 준비)\", \n",
    "     \"- Medicine Ball Chest Pass: 가벼운 공을 벽에 던지고 받기\\n\"\n",
    "     \"- Plyometric Push-up 준비: 무릎대고 폭발적 밀기\\n\"\n",
    "     \"- Full Speed External Rotation: 밴드 사용 빠른 외회전 운동\")\n",
    "]\n",
    "\n",
    "# PDF 생성\n",
    "pdf = PDF_KO()\n",
    "\n",
    "pdf.add_font('Arial Unicode', '', FONT_PATH)\n",
    "pdf.add_font('Arial Unicode', 'B', FONT_PATH)\n",
    "\n",
    "pdf.add_page()\n",
    "\n",
    "for title, body in program:\n",
    "    pdf.chapter_title(title)\n",
    "    pdf.chapter_body(body)\n",
    "\n",
    "# 파일로 저장\n",
    "pdf.output('shoulder_rehab_schedule.pdf')\n"
   ]
  },
  {
   "cell_type": "code",
   "execution_count": null,
   "id": "28e94a59",
   "metadata": {},
   "outputs": [],
   "source": []
  }
 ],
 "metadata": {
  "kernelspec": {
   "display_name": "leo4study",
   "language": "python",
   "name": "python3"
  },
  "language_info": {
   "codemirror_mode": {
    "name": "ipython",
    "version": 3
   },
   "file_extension": ".py",
   "mimetype": "text/x-python",
   "name": "python",
   "nbconvert_exporter": "python",
   "pygments_lexer": "ipython3",
   "version": "3.11.9"
  }
 },
 "nbformat": 4,
 "nbformat_minor": 5
}
